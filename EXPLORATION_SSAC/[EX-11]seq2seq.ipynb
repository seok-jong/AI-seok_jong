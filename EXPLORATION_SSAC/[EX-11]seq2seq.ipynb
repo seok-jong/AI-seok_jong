{
 "cells": [
  {
   "cell_type": "markdown",
   "metadata": {},
   "source": [
    "# import package "
   ]
  },
  {
   "cell_type": "code",
   "execution_count": 22,
   "metadata": {},
   "outputs": [
    {
     "name": "stderr",
     "output_type": "stream",
     "text": [
      "[nltk_data] Downloading package stopwords to /home/ssac16/nltk_data...\n",
      "[nltk_data]   Package stopwords is already up-to-date!\n"
     ]
    }
   ],
   "source": [
    "import nltk\n",
    "nltk.download('stopwords')\n",
    "\n",
    "import numpy as np\n",
    "import pandas as pd\n",
    "import os\n",
    "import re\n",
    "import matplotlib.pyplot as plt\n",
    "from nltk.corpus import stopwords\n",
    "from bs4 import BeautifulSoup \n",
    "from tensorflow.keras.preprocessing.text import Tokenizer \n",
    "from tensorflow.keras.preprocessing.sequence import pad_sequences\n",
    "import urllib.request"
   ]
  },
  {
   "cell_type": "markdown",
   "metadata": {},
   "source": [
    "# newssummarymore.csv load - project"
   ]
  },
  {
   "cell_type": "code",
   "execution_count": 23,
   "metadata": {
    "scrolled": true
   },
   "outputs": [
    {
     "data": {
      "text/html": [
       "<div>\n",
       "<style scoped>\n",
       "    .dataframe tbody tr th:only-of-type {\n",
       "        vertical-align: middle;\n",
       "    }\n",
       "\n",
       "    .dataframe tbody tr th {\n",
       "        vertical-align: top;\n",
       "    }\n",
       "\n",
       "    .dataframe thead th {\n",
       "        text-align: right;\n",
       "    }\n",
       "</style>\n",
       "<table border=\"1\" class=\"dataframe\">\n",
       "  <thead>\n",
       "    <tr style=\"text-align: right;\">\n",
       "      <th></th>\n",
       "      <th>headlines</th>\n",
       "      <th>text</th>\n",
       "    </tr>\n",
       "  </thead>\n",
       "  <tbody>\n",
       "    <tr>\n",
       "      <th>0</th>\n",
       "      <td>upGrad learner switches to career in ML &amp; Al w...</td>\n",
       "      <td>Saurav Kant, an alumnus of upGrad and IIIT-B's...</td>\n",
       "    </tr>\n",
       "    <tr>\n",
       "      <th>1</th>\n",
       "      <td>Delhi techie wins free food from Swiggy for on...</td>\n",
       "      <td>Kunal Shah's credit card bill payment platform...</td>\n",
       "    </tr>\n",
       "    <tr>\n",
       "      <th>2</th>\n",
       "      <td>New Zealand end Rohit Sharma-led India's 12-ma...</td>\n",
       "      <td>New Zealand defeated India by 8 wickets in the...</td>\n",
       "    </tr>\n",
       "    <tr>\n",
       "      <th>3</th>\n",
       "      <td>Aegon life iTerm insurance plan helps customer...</td>\n",
       "      <td>With Aegon Life iTerm Insurance plan, customer...</td>\n",
       "    </tr>\n",
       "    <tr>\n",
       "      <th>4</th>\n",
       "      <td>Have known Hirani for yrs, what if MeToo claim...</td>\n",
       "      <td>Speaking about the sexual harassment allegatio...</td>\n",
       "    </tr>\n",
       "  </tbody>\n",
       "</table>\n",
       "</div>"
      ],
      "text/plain": [
       "                                           headlines  \\\n",
       "0  upGrad learner switches to career in ML & Al w...   \n",
       "1  Delhi techie wins free food from Swiggy for on...   \n",
       "2  New Zealand end Rohit Sharma-led India's 12-ma...   \n",
       "3  Aegon life iTerm insurance plan helps customer...   \n",
       "4  Have known Hirani for yrs, what if MeToo claim...   \n",
       "\n",
       "                                                text  \n",
       "0  Saurav Kant, an alumnus of upGrad and IIIT-B's...  \n",
       "1  Kunal Shah's credit card bill payment platform...  \n",
       "2  New Zealand defeated India by 8 wickets in the...  \n",
       "3  With Aegon Life iTerm Insurance plan, customer...  \n",
       "4  Speaking about the sexual harassment allegatio...  "
      ]
     },
     "execution_count": 23,
     "metadata": {},
     "output_type": "execute_result"
    }
   ],
   "source": [
    "import urllib.request\n",
    "urllib.request.urlretrieve(\"https://raw.githubusercontent.com/sunnysai12345/News_Summary/master/news_summary_more.csv\", filename=\"news_summary_more.csv\")\n",
    "data = pd.read_csv('news_summary_more.csv', encoding='iso-8859-1')\n",
    "data.head()"
   ]
  },
  {
   "cell_type": "code",
   "execution_count": 24,
   "metadata": {},
   "outputs": [
    {
     "data": {
      "text/html": [
       "<div>\n",
       "<style scoped>\n",
       "    .dataframe tbody tr th:only-of-type {\n",
       "        vertical-align: middle;\n",
       "    }\n",
       "\n",
       "    .dataframe tbody tr th {\n",
       "        vertical-align: top;\n",
       "    }\n",
       "\n",
       "    .dataframe thead th {\n",
       "        text-align: right;\n",
       "    }\n",
       "</style>\n",
       "<table border=\"1\" class=\"dataframe\">\n",
       "  <thead>\n",
       "    <tr style=\"text-align: right;\">\n",
       "      <th></th>\n",
       "      <th>Summary</th>\n",
       "      <th>Text</th>\n",
       "    </tr>\n",
       "  </thead>\n",
       "  <tbody>\n",
       "    <tr>\n",
       "      <th>0</th>\n",
       "      <td>upGrad learner switches to career in ML &amp; Al w...</td>\n",
       "      <td>Saurav Kant, an alumnus of upGrad and IIIT-B's...</td>\n",
       "    </tr>\n",
       "    <tr>\n",
       "      <th>1</th>\n",
       "      <td>Delhi techie wins free food from Swiggy for on...</td>\n",
       "      <td>Kunal Shah's credit card bill payment platform...</td>\n",
       "    </tr>\n",
       "    <tr>\n",
       "      <th>2</th>\n",
       "      <td>New Zealand end Rohit Sharma-led India's 12-ma...</td>\n",
       "      <td>New Zealand defeated India by 8 wickets in the...</td>\n",
       "    </tr>\n",
       "    <tr>\n",
       "      <th>3</th>\n",
       "      <td>Aegon life iTerm insurance plan helps customer...</td>\n",
       "      <td>With Aegon Life iTerm Insurance plan, customer...</td>\n",
       "    </tr>\n",
       "    <tr>\n",
       "      <th>4</th>\n",
       "      <td>Have known Hirani for yrs, what if MeToo claim...</td>\n",
       "      <td>Speaking about the sexual harassment allegatio...</td>\n",
       "    </tr>\n",
       "  </tbody>\n",
       "</table>\n",
       "</div>"
      ],
      "text/plain": [
       "                                             Summary  \\\n",
       "0  upGrad learner switches to career in ML & Al w...   \n",
       "1  Delhi techie wins free food from Swiggy for on...   \n",
       "2  New Zealand end Rohit Sharma-led India's 12-ma...   \n",
       "3  Aegon life iTerm insurance plan helps customer...   \n",
       "4  Have known Hirani for yrs, what if MeToo claim...   \n",
       "\n",
       "                                                Text  \n",
       "0  Saurav Kant, an alumnus of upGrad and IIIT-B's...  \n",
       "1  Kunal Shah's credit card bill payment platform...  \n",
       "2  New Zealand defeated India by 8 wickets in the...  \n",
       "3  With Aegon Life iTerm Insurance plan, customer...  \n",
       "4  Speaking about the sexual harassment allegatio...  "
      ]
     },
     "execution_count": 24,
     "metadata": {},
     "output_type": "execute_result"
    }
   ],
   "source": [
    "data.columns=['Summary','Text']\n",
    "data.head()"
   ]
  },
  {
   "cell_type": "markdown",
   "metadata": {},
   "source": [
    "# data sample load"
   ]
  },
  {
   "cell_type": "code",
   "execution_count": 2,
   "metadata": {},
   "outputs": [
    {
     "name": "stdout",
     "output_type": "stream",
     "text": [
      "전체 샘플수 : 100000\n"
     ]
    },
    {
     "data": {
      "text/html": [
       "<div>\n",
       "<style scoped>\n",
       "    .dataframe tbody tr th:only-of-type {\n",
       "        vertical-align: middle;\n",
       "    }\n",
       "\n",
       "    .dataframe tbody tr th {\n",
       "        vertical-align: top;\n",
       "    }\n",
       "\n",
       "    .dataframe thead th {\n",
       "        text-align: right;\n",
       "    }\n",
       "</style>\n",
       "<table border=\"1\" class=\"dataframe\">\n",
       "  <thead>\n",
       "    <tr style=\"text-align: right;\">\n",
       "      <th></th>\n",
       "      <th>Text</th>\n",
       "      <th>Summary</th>\n",
       "    </tr>\n",
       "  </thead>\n",
       "  <tbody>\n",
       "    <tr>\n",
       "      <th>76826</th>\n",
       "      <td>This is a very healthy product that is good fo...</td>\n",
       "      <td>How to get your cat to actually consume this p...</td>\n",
       "    </tr>\n",
       "    <tr>\n",
       "      <th>26020</th>\n",
       "      <td>I usually love Kettle Chips, and love salt &amp; v...</td>\n",
       "      <td>Heavy on the Vinegar</td>\n",
       "    </tr>\n",
       "    <tr>\n",
       "      <th>42990</th>\n",
       "      <td>I'd started to think that a good chocolate bar...</td>\n",
       "      <td>So nice to find chocolate that tastes like cho...</td>\n",
       "    </tr>\n",
       "    <tr>\n",
       "      <th>81727</th>\n",
       "      <td>My local Food Emporium at UWS carries this pro...</td>\n",
       "      <td>Too expensive on Amazon</td>\n",
       "    </tr>\n",
       "    <tr>\n",
       "      <th>94268</th>\n",
       "      <td>I bought this product at Cost Plus World Marke...</td>\n",
       "      <td>WONDERFUL!!!</td>\n",
       "    </tr>\n",
       "    <tr>\n",
       "      <th>2466</th>\n",
       "      <td>Almost gagged at first taste. I have used othe...</td>\n",
       "      <td>Terrible flavor</td>\n",
       "    </tr>\n",
       "    <tr>\n",
       "      <th>98736</th>\n",
       "      <td>Good:  I love the taste &amp; the fact that it is ...</td>\n",
       "      <td>Good/Bad Vegit</td>\n",
       "    </tr>\n",
       "    <tr>\n",
       "      <th>40730</th>\n",
       "      <td>This is a good deal. The jars are huge. The Mi...</td>\n",
       "      <td>BEER NUTS PARTY MIX</td>\n",
       "    </tr>\n",
       "    <tr>\n",
       "      <th>71219</th>\n",
       "      <td>Okay, my chihuaha is finicky...i have wasted l...</td>\n",
       "      <td>Only rawhide my dog will chew</td>\n",
       "    </tr>\n",
       "    <tr>\n",
       "      <th>83179</th>\n",
       "      <td>WE FOUND THIS DOG FOOD ONLINE AND COULDN'T BEL...</td>\n",
       "      <td>BEST FOR PETS</td>\n",
       "    </tr>\n",
       "    <tr>\n",
       "      <th>88612</th>\n",
       "      <td>Just after one bite, I could really tell there...</td>\n",
       "      <td>Way Too Much Salt</td>\n",
       "    </tr>\n",
       "    <tr>\n",
       "      <th>57225</th>\n",
       "      <td>I was surprised when I opened the box and foun...</td>\n",
       "      <td>K-Cups not properly sealed - coffee all over i...</td>\n",
       "    </tr>\n",
       "    <tr>\n",
       "      <th>71936</th>\n",
       "      <td>I bought this ginger for my wife thinking it w...</td>\n",
       "      <td>Made in China</td>\n",
       "    </tr>\n",
       "    <tr>\n",
       "      <th>44291</th>\n",
       "      <td>Wonderful bold brew. Stands alone or with Haze...</td>\n",
       "      <td>C'est Magnifique!</td>\n",
       "    </tr>\n",
       "    <tr>\n",
       "      <th>96245</th>\n",
       "      <td>These things are amazing.  I can't eat less th...</td>\n",
       "      <td>Be Warned...</td>\n",
       "    </tr>\n",
       "  </tbody>\n",
       "</table>\n",
       "</div>"
      ],
      "text/plain": [
       "                                                    Text  \\\n",
       "76826  This is a very healthy product that is good fo...   \n",
       "26020  I usually love Kettle Chips, and love salt & v...   \n",
       "42990  I'd started to think that a good chocolate bar...   \n",
       "81727  My local Food Emporium at UWS carries this pro...   \n",
       "94268  I bought this product at Cost Plus World Marke...   \n",
       "2466   Almost gagged at first taste. I have used othe...   \n",
       "98736  Good:  I love the taste & the fact that it is ...   \n",
       "40730  This is a good deal. The jars are huge. The Mi...   \n",
       "71219  Okay, my chihuaha is finicky...i have wasted l...   \n",
       "83179  WE FOUND THIS DOG FOOD ONLINE AND COULDN'T BEL...   \n",
       "88612  Just after one bite, I could really tell there...   \n",
       "57225  I was surprised when I opened the box and foun...   \n",
       "71936  I bought this ginger for my wife thinking it w...   \n",
       "44291  Wonderful bold brew. Stands alone or with Haze...   \n",
       "96245  These things are amazing.  I can't eat less th...   \n",
       "\n",
       "                                                 Summary  \n",
       "76826  How to get your cat to actually consume this p...  \n",
       "26020                               Heavy on the Vinegar  \n",
       "42990  So nice to find chocolate that tastes like cho...  \n",
       "81727                            Too expensive on Amazon  \n",
       "94268                                       WONDERFUL!!!  \n",
       "2466                                     Terrible flavor  \n",
       "98736                                     Good/Bad Vegit  \n",
       "40730                                BEER NUTS PARTY MIX  \n",
       "71219                      Only rawhide my dog will chew  \n",
       "83179                                      BEST FOR PETS  \n",
       "88612                                  Way Too Much Salt  \n",
       "57225  K-Cups not properly sealed - coffee all over i...  \n",
       "71936                                      Made in China  \n",
       "44291                                  C'est Magnifique!  \n",
       "96245                                       Be Warned...  "
      ]
     },
     "execution_count": 2,
     "metadata": {},
     "output_type": "execute_result"
    }
   ],
   "source": [
    "data = pd.read_csv(os.getenv(\"HOME\")+\"/aiffel/news_summarization/data/Reviews.csv\", nrows = 100000)\n",
    "print('전체 샘플수 :',(len(data)))\n",
    "\n",
    "data = data[['Text','Summary']]\n",
    "data.head()\n",
    "\n",
    "#랜덤한 15개 샘플 출력\n",
    "data.sample(15)"
   ]
  },
  {
   "cell_type": "markdown",
   "metadata": {},
   "source": [
    "# data 전처리 "
   ]
  },
  {
   "cell_type": "markdown",
   "metadata": {},
   "source": [
    "## 중복 샘플과 null 값이 존재하는 샘플 제거"
   ]
  },
  {
   "cell_type": "code",
   "execution_count": 25,
   "metadata": {},
   "outputs": [
    {
     "name": "stdout",
     "output_type": "stream",
     "text": [
      "Text 열에서 중복을 배제한 유일한 샘플의 수 : 98360\n",
      "Summary 열에서 중복을 배제한 유일한 샘플의 수 : 98280\n",
      "전체 샘플수 : 98360\n",
      "전체 샘플수 : 98360\n"
     ]
    }
   ],
   "source": [
    "print('Text 열에서 중복을 배제한 유일한 샘플의 수 :', data['Text'].nunique())\n",
    "print('Summary 열에서 중복을 배제한 유일한 샘플의 수 :', data['Summary'].nunique())\n",
    "data.drop_duplicates(subset = ['Text'], inplace = True)\n",
    "print('전체 샘플수 :',(len(data)))\n",
    "data.dropna(axis = 0, inplace = True)\n",
    "print('전체 샘플수 :',(len(data)))"
   ]
  },
  {
   "cell_type": "markdown",
   "metadata": {},
   "source": [
    "# text normalization"
   ]
  },
  {
   "cell_type": "code",
   "execution_count": 26,
   "metadata": {},
   "outputs": [
    {
     "name": "stdout",
     "output_type": "stream",
     "text": [
      "정규화 사전의 수:  120\n"
     ]
    }
   ],
   "source": [
    "contractions = {\"ain't\": \"is not\", \"aren't\": \"are not\",\"can't\": \"cannot\", \"'cause\": \"because\", \"could've\": \"could have\", \"couldn't\": \"could not\",\n",
    "                           \"didn't\": \"did not\",  \"doesn't\": \"does not\", \"don't\": \"do not\", \"hadn't\": \"had not\", \"hasn't\": \"has not\", \"haven't\": \"have not\",\n",
    "                           \"he'd\": \"he would\",\"he'll\": \"he will\", \"he's\": \"he is\", \"how'd\": \"how did\", \"how'd'y\": \"how do you\", \"how'll\": \"how will\", \"how's\": \"how is\",\n",
    "                           \"I'd\": \"I would\", \"I'd've\": \"I would have\", \"I'll\": \"I will\", \"I'll've\": \"I will have\",\"I'm\": \"I am\", \"I've\": \"I have\", \"i'd\": \"i would\",\n",
    "                           \"i'd've\": \"i would have\", \"i'll\": \"i will\",  \"i'll've\": \"i will have\",\"i'm\": \"i am\", \"i've\": \"i have\", \"isn't\": \"is not\", \"it'd\": \"it would\",\n",
    "                           \"it'd've\": \"it would have\", \"it'll\": \"it will\", \"it'll've\": \"it will have\",\"it's\": \"it is\", \"let's\": \"let us\", \"ma'am\": \"madam\",\n",
    "                           \"mayn't\": \"may not\", \"might've\": \"might have\",\"mightn't\": \"might not\",\"mightn't've\": \"might not have\", \"must've\": \"must have\",\n",
    "                           \"mustn't\": \"must not\", \"mustn't've\": \"must not have\", \"needn't\": \"need not\", \"needn't've\": \"need not have\",\"o'clock\": \"of the clock\",\n",
    "                           \"oughtn't\": \"ought not\", \"oughtn't've\": \"ought not have\", \"shan't\": \"shall not\", \"sha'n't\": \"shall not\", \"shan't've\": \"shall not have\",\n",
    "                           \"she'd\": \"she would\", \"she'd've\": \"she would have\", \"she'll\": \"she will\", \"she'll've\": \"she will have\", \"she's\": \"she is\",\n",
    "                           \"should've\": \"should have\", \"shouldn't\": \"should not\", \"shouldn't've\": \"should not have\", \"so've\": \"so have\",\"so's\": \"so as\",\n",
    "                           \"this's\": \"this is\",\"that'd\": \"that would\", \"that'd've\": \"that would have\", \"that's\": \"that is\", \"there'd\": \"there would\",\n",
    "                           \"there'd've\": \"there would have\", \"there's\": \"there is\", \"here's\": \"here is\",\"they'd\": \"they would\", \"they'd've\": \"they would have\",\n",
    "                           \"they'll\": \"they will\", \"they'll've\": \"they will have\", \"they're\": \"they are\", \"they've\": \"they have\", \"to've\": \"to have\",\n",
    "                           \"wasn't\": \"was not\", \"we'd\": \"we would\", \"we'd've\": \"we would have\", \"we'll\": \"we will\", \"we'll've\": \"we will have\", \"we're\": \"we are\",\n",
    "                           \"we've\": \"we have\", \"weren't\": \"were not\", \"what'll\": \"what will\", \"what'll've\": \"what will have\", \"what're\": \"what are\",\n",
    "                           \"what's\": \"what is\", \"what've\": \"what have\", \"when's\": \"when is\", \"when've\": \"when have\", \"where'd\": \"where did\", \"where's\": \"where is\",\n",
    "                           \"where've\": \"where have\", \"who'll\": \"who will\", \"who'll've\": \"who will have\", \"who's\": \"who is\", \"who've\": \"who have\",\n",
    "                           \"why's\": \"why is\", \"why've\": \"why have\", \"will've\": \"will have\", \"won't\": \"will not\", \"won't've\": \"will not have\",\n",
    "                           \"would've\": \"would have\", \"wouldn't\": \"would not\", \"wouldn't've\": \"would not have\", \"y'all\": \"you all\",\n",
    "                           \"y'all'd\": \"you all would\",\"y'all'd've\": \"you all would have\",\"y'all're\": \"you all are\",\"y'all've\": \"you all have\",\n",
    "                           \"you'd\": \"you would\", \"you'd've\": \"you would have\", \"you'll\": \"you will\", \"you'll've\": \"you will have\",\n",
    "                           \"you're\": \"you are\", \"you've\": \"you have\"}\n",
    "\n",
    "print(\"정규화 사전의 수: \",len(contractions))"
   ]
  },
  {
   "cell_type": "markdown",
   "metadata": {},
   "source": [
    "# delete stopwords"
   ]
  },
  {
   "cell_type": "code",
   "execution_count": 27,
   "metadata": {},
   "outputs": [
    {
     "name": "stdout",
     "output_type": "stream",
     "text": [
      "불용어 개수 : 179\n",
      "['i', 'me', 'my', 'myself', 'we', 'our', 'ours', 'ourselves', 'you', \"you're\", \"you've\", \"you'll\", \"you'd\", 'your', 'yours', 'yourself', 'yourselves', 'he', 'him', 'his', 'himself', 'she', \"she's\", 'her', 'hers', 'herself', 'it', \"it's\", 'its', 'itself', 'they', 'them', 'their', 'theirs', 'themselves', 'what', 'which', 'who', 'whom', 'this', 'that', \"that'll\", 'these', 'those', 'am', 'is', 'are', 'was', 'were', 'be', 'been', 'being', 'have', 'has', 'had', 'having', 'do', 'does', 'did', 'doing', 'a', 'an', 'the', 'and', 'but', 'if', 'or', 'because', 'as', 'until', 'while', 'of', 'at', 'by', 'for', 'with', 'about', 'against', 'between', 'into', 'through', 'during', 'before', 'after', 'above', 'below', 'to', 'from', 'up', 'down', 'in', 'out', 'on', 'off', 'over', 'under', 'again', 'further', 'then', 'once', 'here', 'there', 'when', 'where', 'why', 'how', 'all', 'any', 'both', 'each', 'few', 'more', 'most', 'other', 'some', 'such', 'no', 'nor', 'not', 'only', 'own', 'same', 'so', 'than', 'too', 'very', 's', 't', 'can', 'will', 'just', 'don', \"don't\", 'should', \"should've\", 'now', 'd', 'll', 'm', 'o', 're', 've', 'y', 'ain', 'aren', \"aren't\", 'couldn', \"couldn't\", 'didn', \"didn't\", 'doesn', \"doesn't\", 'hadn', \"hadn't\", 'hasn', \"hasn't\", 'haven', \"haven't\", 'isn', \"isn't\", 'ma', 'mightn', \"mightn't\", 'mustn', \"mustn't\", 'needn', \"needn't\", 'shan', \"shan't\", 'shouldn', \"shouldn't\", 'wasn', \"wasn't\", 'weren', \"weren't\", 'won', \"won't\", 'wouldn', \"wouldn't\"]\n"
     ]
    }
   ],
   "source": [
    "print('불용어 개수 :', len(stopwords.words('english') ))\n",
    "print(stopwords.words('english'))"
   ]
  },
  {
   "cell_type": "code",
   "execution_count": 28,
   "metadata": {},
   "outputs": [],
   "source": [
    "#데이터 전처리 함수\n",
    "def preprocess_sentence(sentence, remove_stopwords=True):\n",
    "    sentence = sentence.lower() # 텍스트 소문자화\n",
    "    sentence = BeautifulSoup(sentence, \"lxml\").text # <br />, <a href = ...> 등의 html 태그 제거\n",
    "    sentence = re.sub(r'\\([^)]*\\)', '', sentence) # 괄호로 닫힌 문자열 (...) 제거 Ex) my husband (and myself!) for => my husband for\n",
    "    sentence = re.sub('\"','', sentence) # 쌍따옴표 \" 제거\n",
    "    sentence = ' '.join([contractions[t] if t in contractions else t for t in sentence.split(\" \")]) # 약어 정규화\n",
    "    sentence = re.sub(r\"'s\\b\",\"\",sentence) # 소유격 제거. Ex) roland's -> roland\n",
    "    sentence = re.sub(\"[^a-zA-Z]\", \" \", sentence) # 영어 외 문자(숫자, 특수문자 등) 공백으로 변환\n",
    "    sentence = re.sub('[m]{2,}', 'mm', sentence) # m이 3개 이상이면 2개로 변경. Ex) ummmmmmm yeah -> umm yeah\n",
    "    \n",
    "    # 불용어 제거 (Text)\n",
    "    if remove_stopwords:\n",
    "        tokens = ' '.join(word for word in sentence.split() if not word in stopwords.words('english') if len(word) > 1)\n",
    "    # 불용어 미제거 (Summary)\n",
    "    else:\n",
    "        tokens = ' '.join(word for word in sentence.split() if len(word) > 1)\n",
    "    return tokens"
   ]
  },
  {
   "cell_type": "code",
   "execution_count": 29,
   "metadata": {},
   "outputs": [],
   "source": [
    "clean_text = []\n",
    "\n",
    "# 전체 Text 데이터에 대한 전처리 : 10분 이상 시간이 걸릴 수 있습니다. \n",
    "for s in data['Text']:\n",
    "    clean_text.append(preprocess_sentence(s))\n",
    "\n",
    "# 전처리 후 출력\n",
    "clean_text[:5]\n",
    "\n",
    "clean_summary = []\n",
    "\n",
    "# 전체 Summary 데이터에 대한 전처리 : 5분 이상 시간이 걸릴 수 있습니다. \n",
    "for s in data['Summary']:\n",
    "    clean_summary.append(preprocess_sentence(s, False))\n",
    "\n",
    "clean_summary[:5]\n",
    "\n",
    "data['Text'] = clean_text\n",
    "data['Summary'] = clean_summary\n",
    "\n",
    "# 빈 값을 Null 값으로 변환\n",
    "data.replace('', np.nan, inplace=True)"
   ]
  },
  {
   "cell_type": "code",
   "execution_count": 31,
   "metadata": {},
   "outputs": [],
   "source": [
    "\n",
    "\n",
    "data.to_csv(\"/home/ssac16/aiffel/news_summarization/clean_project_data.csv\", mode='w')"
   ]
  },
  {
   "cell_type": "code",
   "execution_count": 33,
   "metadata": {
    "scrolled": true
   },
   "outputs": [
    {
     "data": {
      "text/html": [
       "<div>\n",
       "<style scoped>\n",
       "    .dataframe tbody tr th:only-of-type {\n",
       "        vertical-align: middle;\n",
       "    }\n",
       "\n",
       "    .dataframe tbody tr th {\n",
       "        vertical-align: top;\n",
       "    }\n",
       "\n",
       "    .dataframe thead th {\n",
       "        text-align: right;\n",
       "    }\n",
       "</style>\n",
       "<table border=\"1\" class=\"dataframe\">\n",
       "  <thead>\n",
       "    <tr style=\"text-align: right;\">\n",
       "      <th></th>\n",
       "      <th>Summary</th>\n",
       "      <th>Text</th>\n",
       "    </tr>\n",
       "  </thead>\n",
       "  <tbody>\n",
       "    <tr>\n",
       "      <th>0</th>\n",
       "      <td>upgrad learner switches to career in ml al wit...</td>\n",
       "      <td>saurav kant alumnus upgrad iiit pg program mac...</td>\n",
       "    </tr>\n",
       "    <tr>\n",
       "      <th>1</th>\n",
       "      <td>delhi techie wins free food from swiggy for on...</td>\n",
       "      <td>kunal shah credit card bill payment platform c...</td>\n",
       "    </tr>\n",
       "    <tr>\n",
       "      <th>2</th>\n",
       "      <td>new zealand end rohit sharma led india match w...</td>\n",
       "      <td>new zealand defeated india wickets fourth odi ...</td>\n",
       "    </tr>\n",
       "    <tr>\n",
       "      <th>3</th>\n",
       "      <td>aegon life iterm insurance plan helps customer...</td>\n",
       "      <td>aegon life iterm insurance plan customers enjo...</td>\n",
       "    </tr>\n",
       "    <tr>\n",
       "      <th>4</th>\n",
       "      <td>have known hirani for yrs what if metoo claims...</td>\n",
       "      <td>speaking sexual harassment allegations rajkuma...</td>\n",
       "    </tr>\n",
       "  </tbody>\n",
       "</table>\n",
       "</div>"
      ],
      "text/plain": [
       "                                             Summary  \\\n",
       "0  upgrad learner switches to career in ml al wit...   \n",
       "1  delhi techie wins free food from swiggy for on...   \n",
       "2  new zealand end rohit sharma led india match w...   \n",
       "3  aegon life iterm insurance plan helps customer...   \n",
       "4  have known hirani for yrs what if metoo claims...   \n",
       "\n",
       "                                                Text  \n",
       "0  saurav kant alumnus upgrad iiit pg program mac...  \n",
       "1  kunal shah credit card bill payment platform c...  \n",
       "2  new zealand defeated india wickets fourth odi ...  \n",
       "3  aegon life iterm insurance plan customers enjo...  \n",
       "4  speaking sexual harassment allegations rajkuma...  "
      ]
     },
     "execution_count": 33,
     "metadata": {},
     "output_type": "execute_result"
    }
   ],
   "source": [
    "data1 = pd.read_csv(\"/home/ssac16/aiffel/news_summarization/clean_project_data.csv\", index_col=0)\n",
    "data1.head()\n"
   ]
  },
  {
   "cell_type": "code",
   "execution_count": 34,
   "metadata": {},
   "outputs": [
    {
     "name": "stdout",
     "output_type": "stream",
     "text": [
      "전치리 과정에서 NULL이 된 데이터 수 :  Summary    0\n",
      "Text       0\n",
      "dtype: int64\n",
      "전체 샘플수 : 98360\n"
     ]
    }
   ],
   "source": [
    "print(\"전치리 과정에서 NULL이 된 데이터 수 : \",data.isnull().sum())\n",
    "data.dropna(axis=0, inplace=True)\n",
    "print('전체 샘플수 :',(len(data)))#데이터 전처리 함수"
   ]
  },
  {
   "cell_type": "markdown",
   "metadata": {},
   "source": [
    "# data 최대 길이 설정 "
   ]
  },
  {
   "cell_type": "code",
   "execution_count": 35,
   "metadata": {},
   "outputs": [
    {
     "name": "stdout",
     "output_type": "stream",
     "text": [
      "텍스트의 최소 길이 : 1\n",
      "텍스트의 최대 길이 : 60\n",
      "텍스트의 평균 길이 : 35.09968483123221\n",
      "요약의 최소 길이 : 1\n",
      "요약의 최대 길이 : 16\n",
      "요약의 평균 길이 : 9.299532330215534\n"
     ]
    },
    {
     "data": {
      "image/png": "[encoded data removed]",
      "text/plain": [
       "<Figure size 432x288 with 2 Axes>"
      ]
     },
     "metadata": {
      "needs_background": "light"
     },
     "output_type": "display_data"
    },
    {
     "data": {
      "image/png": "[encoded data removed]",
      "text/plain": [
       "<Figure size 432x288 with 1 Axes>"
      ]
     },
     "metadata": {
      "needs_background": "light"
     },
     "output_type": "display_data"
    },
    {
     "data": {
      "image/png": "[encoded data removed]",
      "text/plain": [
       "<Figure size 432x288 with 1 Axes>"
      ]
     },
     "metadata": {
      "needs_background": "light"
     },
     "output_type": "display_data"
    }
   ],
   "source": [
    "# 길이 분포 출력\n",
    "import matplotlib.pyplot as plt\n",
    "\n",
    "text_len = [len(s.split()) for s in data['Text']]\n",
    "summary_len = [len(s.split()) for s in data['Summary']]\n",
    "\n",
    "print('텍스트의 최소 길이 : {}'.format(np.min(text_len)))\n",
    "print('텍스트의 최대 길이 : {}'.format(np.max(text_len)))\n",
    "print('텍스트의 평균 길이 : {}'.format(np.mean(text_len)))\n",
    "print('요약의 최소 길이 : {}'.format(np.min(summary_len)))\n",
    "print('요약의 최대 길이 : {}'.format(np.max(summary_len)))\n",
    "print('요약의 평균 길이 : {}'.format(np.mean(summary_len)))\n",
    "\n",
    "plt.subplot(1,2,1)\n",
    "plt.boxplot(summary_len)\n",
    "plt.title('Summary')\n",
    "plt.subplot(1,2,2)\n",
    "plt.boxplot(text_len)\n",
    "plt.title('Text')\n",
    "plt.tight_layout()\n",
    "plt.show()\n",
    "\n",
    "plt.title('Summary')\n",
    "plt.hist(summary_len, bins = 40)\n",
    "plt.xlabel('length of samples')\n",
    "plt.ylabel('number of samples')\n",
    "plt.show()\n",
    "\n",
    "plt.title('Text')\n",
    "plt.hist(text_len, bins = 40)\n",
    "plt.xlabel('length of samples')\n",
    "plt.ylabel('number of samples')\n",
    "plt.show()"
   ]
  },
  {
   "cell_type": "code",
   "execution_count": 53,
   "metadata": {},
   "outputs": [
    {
     "name": "stdout",
     "output_type": "stream",
     "text": [
      "전체 샘플 중 길이가 45 이하인 샘플의 비율: 0.9973805570927873\n",
      "전체 샘플 중 길이가 8 이하인 샘플의 비율: 1.0\n"
     ]
    }
   ],
   "source": [
    "text_max_len = 45\n",
    "summary_max_len = 8\n",
    "def below_threshold_len(max_len, nested_list):\n",
    "    cnt = 0\n",
    "    for s in nested_list:\n",
    "        if(len(s.split()) <= max_len):\n",
    "            cnt = cnt + 1\n",
    "    print('전체 샘플 중 길이가 %s 이하인 샘플의 비율: %s'%(max_len, (cnt / len(nested_list))))\n",
    "below_threshold_len(text_max_len, data['Text'])\n",
    "below_threshold_len(summary_max_len,  data['Summary'])"
   ]
  },
  {
   "cell_type": "markdown",
   "metadata": {},
   "source": [
    "## 정해진 길이보다 길면 제외 "
   ]
  },
  {
   "cell_type": "code",
   "execution_count": 54,
   "metadata": {},
   "outputs": [
    {
     "name": "stdout",
     "output_type": "stream",
     "text": [
      "전체 샘플수 : 27034\n"
     ]
    }
   ],
   "source": [
    "data = data[data['Text'].apply(lambda x: len(x.split()) <= text_max_len)]\n",
    "data = data[data['Summary'].apply(lambda x: len(x.split()) <= summary_max_len)]\n",
    "print('전체 샘플수 :',(len(data)))"
   ]
  },
  {
   "cell_type": "markdown",
   "metadata": {},
   "source": [
    "# sos eos 토큰 "
   ]
  },
  {
   "cell_type": "code",
   "execution_count": 55,
   "metadata": {},
   "outputs": [
    {
     "data": {
      "text/html": [
       "<div>\n",
       "<style scoped>\n",
       "    .dataframe tbody tr th:only-of-type {\n",
       "        vertical-align: middle;\n",
       "    }\n",
       "\n",
       "    .dataframe tbody tr th {\n",
       "        vertical-align: top;\n",
       "    }\n",
       "\n",
       "    .dataframe thead th {\n",
       "        text-align: right;\n",
       "    }\n",
       "</style>\n",
       "<table border=\"1\" class=\"dataframe\">\n",
       "  <thead>\n",
       "    <tr style=\"text-align: right;\">\n",
       "      <th></th>\n",
       "      <th>Summary</th>\n",
       "      <th>Text</th>\n",
       "      <th>decoder_input</th>\n",
       "      <th>decoder_target</th>\n",
       "    </tr>\n",
       "  </thead>\n",
       "  <tbody>\n",
       "    <tr>\n",
       "      <th>19</th>\n",
       "      <td>odisha cm patnaik controls mining mafia union ...</td>\n",
       "      <td>union minister dharmendra pradhan wednesday cl...</td>\n",
       "      <td>sostoken odisha cm patnaik controls mining maf...</td>\n",
       "      <td>odisha cm patnaik controls mining mafia union ...</td>\n",
       "    </tr>\n",
       "    <tr>\n",
       "      <th>21</th>\n",
       "      <td>isro unveils bengaluru centre for manned space...</td>\n",
       "      <td>indian space research organisation wednesday u...</td>\n",
       "      <td>sostoken isro unveils bengaluru centre for man...</td>\n",
       "      <td>isro unveils bengaluru centre for manned space...</td>\n",
       "    </tr>\n",
       "    <tr>\n",
       "      <th>22</th>\n",
       "      <td>killed injured in saudi arabia floods</td>\n",
       "      <td>least people killed others injured saudi arabi...</td>\n",
       "      <td>sostoken killed injured in saudi arabia floods</td>\n",
       "      <td>killed injured in saudi arabia floods eostoken</td>\n",
       "    </tr>\n",
       "    <tr>\n",
       "      <th>29</th>\n",
       "      <td>seat cushions from missing plane carrying foot...</td>\n",
       "      <td>investigators searching lost plane carrying ar...</td>\n",
       "      <td>sostoken seat cushions from missing plane carr...</td>\n",
       "      <td>seat cushions from missing plane carrying foot...</td>\n",
       "    </tr>\n",
       "    <tr>\n",
       "      <th>36</th>\n",
       "      <td>agustawestland scam accused rajiv saxena extra...</td>\n",
       "      <td>agustawestland chopper scam co accused rajiv s...</td>\n",
       "      <td>sostoken agustawestland scam accused rajiv sax...</td>\n",
       "      <td>agustawestland scam accused rajiv saxena extra...</td>\n",
       "    </tr>\n",
       "  </tbody>\n",
       "</table>\n",
       "</div>"
      ],
      "text/plain": [
       "                                              Summary  \\\n",
       "19  odisha cm patnaik controls mining mafia union ...   \n",
       "21  isro unveils bengaluru centre for manned space...   \n",
       "22              killed injured in saudi arabia floods   \n",
       "29  seat cushions from missing plane carrying foot...   \n",
       "36  agustawestland scam accused rajiv saxena extra...   \n",
       "\n",
       "                                                 Text  \\\n",
       "19  union minister dharmendra pradhan wednesday cl...   \n",
       "21  indian space research organisation wednesday u...   \n",
       "22  least people killed others injured saudi arabi...   \n",
       "29  investigators searching lost plane carrying ar...   \n",
       "36  agustawestland chopper scam co accused rajiv s...   \n",
       "\n",
       "                                        decoder_input  \\\n",
       "19  sostoken odisha cm patnaik controls mining maf...   \n",
       "21  sostoken isro unveils bengaluru centre for man...   \n",
       "22     sostoken killed injured in saudi arabia floods   \n",
       "29  sostoken seat cushions from missing plane carr...   \n",
       "36  sostoken agustawestland scam accused rajiv sax...   \n",
       "\n",
       "                                       decoder_target  \n",
       "19  odisha cm patnaik controls mining mafia union ...  \n",
       "21  isro unveils bengaluru centre for manned space...  \n",
       "22     killed injured in saudi arabia floods eostoken  \n",
       "29  seat cushions from missing plane carrying foot...  \n",
       "36  agustawestland scam accused rajiv saxena extra...  "
      ]
     },
     "execution_count": 55,
     "metadata": {},
     "output_type": "execute_result"
    }
   ],
   "source": [
    "#요약 데이터에는 시작 토큰과 종료 토큰을 추가한다.\n",
    "data['decoder_input'] = data['Summary'].apply(lambda x : 'sostoken '+ x)\n",
    "data['decoder_target'] = data['Summary'].apply(lambda x : x + ' eostoken')\n",
    "data.head()"
   ]
  },
  {
   "cell_type": "markdown",
   "metadata": {},
   "source": [
    "### numpy타입으로 저장 "
   ]
  },
  {
   "cell_type": "code",
   "execution_count": 56,
   "metadata": {},
   "outputs": [],
   "source": [
    "encoder_input = np.array(data['Text']) # 인코더의 입력\n",
    "decoder_input = np.array(data['decoder_input']) # 디코더의 입력\n",
    "decoder_target = np.array(data['decoder_target']) # 디코더의 레이블"
   ]
  },
  {
   "cell_type": "markdown",
   "metadata": {},
   "source": [
    "### train test data 분리 "
   ]
  },
  {
   "cell_type": "code",
   "execution_count": 57,
   "metadata": {},
   "outputs": [],
   "source": [
    "# 직접 suffle\n",
    "indices = np.arange(encoder_input.shape[0])\n",
    "np.random.shuffle(indices)\n",
    "\n",
    "encoder_input = encoder_input[indices]\n",
    "decoder_input = decoder_input[indices]\n",
    "decoder_target = decoder_target[indices]"
   ]
  },
  {
   "cell_type": "code",
   "execution_count": 58,
   "metadata": {},
   "outputs": [
    {
     "name": "stdout",
     "output_type": "stream",
     "text": [
      "테스트 데이터의 수 : 5406\n"
     ]
    }
   ],
   "source": [
    "n_of_val = int(len(encoder_input)*0.2)\n",
    "print('테스트 데이터의 수 :',n_of_val)"
   ]
  },
  {
   "cell_type": "code",
   "execution_count": 59,
   "metadata": {},
   "outputs": [
    {
     "name": "stdout",
     "output_type": "stream",
     "text": [
      "훈련 데이터의 개수 : 21628\n",
      "훈련 레이블의 개수 : 21628\n",
      "테스트 데이터의 개수 : 5406\n",
      "테스트 레이블의 개수 : 5406\n"
     ]
    }
   ],
   "source": [
    "encoder_input_train = encoder_input[:-n_of_val]\n",
    "decoder_input_train = decoder_input[:-n_of_val]\n",
    "decoder_target_train = decoder_target[:-n_of_val]\n",
    "\n",
    "encoder_input_test = encoder_input[-n_of_val:]\n",
    "decoder_input_test = decoder_input[-n_of_val:]\n",
    "decoder_target_test = decoder_target[-n_of_val:]\n",
    "\n",
    "print('훈련 데이터의 개수 :', len(encoder_input_train))\n",
    "print('훈련 레이블의 개수 :',len(decoder_input_train))\n",
    "print('테스트 데이터의 개수 :',len(encoder_input_test))\n",
    "print('테스트 레이블의 개수 :',len(decoder_input_test))"
   ]
  },
  {
   "cell_type": "markdown",
   "metadata": {},
   "source": [
    "# vocaburary 생성"
   ]
  },
  {
   "cell_type": "code",
   "execution_count": 60,
   "metadata": {},
   "outputs": [],
   "source": [
    "src_tokenizer = Tokenizer() # 토크나이저 정의\n",
    "src_tokenizer.fit_on_texts(encoder_input_train) # 입력된 데이터로부터 단어 집합 생성"
   ]
  },
  {
   "cell_type": "code",
   "execution_count": 61,
   "metadata": {},
   "outputs": [
    {
     "name": "stdout",
     "output_type": "stream",
     "text": [
      "단어 집합(vocabulary)의 크기 : 42172\n",
      "등장 빈도가 6번 이하인 희귀 단어의 수: 30454\n",
      "단어 집합에서 희귀 단어를 제외시킬 경우의 단어 집합의 크기 11718\n",
      "단어 집합에서 희귀 단어의 비율: 72.21379114104145\n",
      "전체 등장 빈도에서 희귀 단어 등장 빈도 비율: 8.222255049632405\n"
     ]
    }
   ],
   "source": [
    "threshold = 7\n",
    "total_cnt = len(src_tokenizer.word_index) # 단어의 수\n",
    "rare_cnt = 0 # 등장 빈도수가 threshold보다 작은 단어의 개수를 카운트\n",
    "total_freq = 0 # 훈련 데이터의 전체 단어 빈도수 총 합\n",
    "rare_freq = 0 # 등장 빈도수가 threshold보다 작은 단어의 등장 빈도수의 총 합\n",
    "\n",
    "# 단어와 빈도수의 쌍(pair)을 key와 value로 받는다.\n",
    "for key, value in src_tokenizer.word_counts.items():\n",
    "    total_freq = total_freq + value\n",
    "\n",
    "    # 단어의 등장 빈도수가 threshold보다 작으면\n",
    "    if(value < threshold):\n",
    "        rare_cnt = rare_cnt + 1\n",
    "        rare_freq = rare_freq + value\n",
    "\n",
    "print('단어 집합(vocabulary)의 크기 :',total_cnt)\n",
    "print('등장 빈도가 %s번 이하인 희귀 단어의 수: %s'%(threshold - 1, rare_cnt))\n",
    "print('단어 집합에서 희귀 단어를 제외시킬 경우의 단어 집합의 크기 %s'%(total_cnt - rare_cnt))\n",
    "print(\"단어 집합에서 희귀 단어의 비율:\", (rare_cnt / total_cnt)*100)\n",
    "print(\"전체 등장 빈도에서 희귀 단어 등장 빈도 비율:\", (rare_freq / total_freq)*100)"
   ]
  },
  {
   "cell_type": "code",
   "execution_count": 62,
   "metadata": {},
   "outputs": [],
   "source": [
    "src_vocab = 8000\n",
    "src_tokenizer = Tokenizer(num_words = src_vocab) # 단어 집합의 크기를 8,000으로 제한\n",
    "src_tokenizer.fit_on_texts(encoder_input_train) # 단어 집합 재생성."
   ]
  },
  {
   "cell_type": "code",
   "execution_count": 63,
   "metadata": {},
   "outputs": [
    {
     "name": "stdout",
     "output_type": "stream",
     "text": [
      "[[62, 2957, 20, 515, 962, 198, 14, 5203, 842, 1025, 1779, 515, 2186, 874, 5763, 1831, 529, 2825, 7007, 233, 5964, 3024, 729, 7761, 14, 287, 134, 345], [2122, 1780, 367, 7008, 626, 547, 7762, 365, 4512, 2187, 92, 875, 2123, 1905, 18, 736, 626, 547, 380, 535, 367, 141, 6210, 5576, 260, 147, 736, 2353, 1300, 3240, 1905], [893, 697, 4175, 3, 2247, 547, 18, 2595, 2247, 4175, 1493, 142, 337, 153, 134, 90, 161, 753, 2596, 2, 292, 100, 134, 1, 3310, 7374, 661, 396, 7763]]\n"
     ]
    }
   ],
   "source": [
    "# 텍스트 시퀀스를 정수 시퀀스로 변환\n",
    "encoder_input_train = src_tokenizer.texts_to_sequences(encoder_input_train) \n",
    "encoder_input_test = src_tokenizer.texts_to_sequences(encoder_input_test)\n",
    "\n",
    "#잘 진행되었는지 샘플 출력\n",
    "print(encoder_input_train[:3])"
   ]
  },
  {
   "cell_type": "markdown",
   "metadata": {},
   "source": [
    "## summary에서 진행 "
   ]
  },
  {
   "cell_type": "code",
   "execution_count": 64,
   "metadata": {},
   "outputs": [],
   "source": [
    "tar_tokenizer = Tokenizer()\n",
    "tar_tokenizer.fit_on_texts(decoder_input_train)"
   ]
  },
  {
   "cell_type": "code",
   "execution_count": 65,
   "metadata": {},
   "outputs": [
    {
     "name": "stdout",
     "output_type": "stream",
     "text": [
      "단어 집합(vocabulary)의 크기 : 18837\n",
      "등장 빈도가 5번 이하인 희귀 단어의 수: 14200\n",
      "단어 집합에서 희귀 단어를 제외시킬 경우의 단어 집합의 크기 4637\n",
      "단어 집합에서 희귀 단어의 비율: 75.3835536444232\n",
      "전체 등장 빈도에서 희귀 단어 등장 빈도 비율: 14.116564813220863\n"
     ]
    }
   ],
   "source": [
    "threshold = 6\n",
    "total_cnt = len(tar_tokenizer.word_index) # 단어의 수\n",
    "rare_cnt = 0 # 등장 빈도수가 threshold보다 작은 단어의 개수를 카운트\n",
    "total_freq = 0 # 훈련 데이터의 전체 단어 빈도수 총 합\n",
    "rare_freq = 0 # 등장 빈도수가 threshold보다 작은 단어의 등장 빈도수의 총 합\n",
    "\n",
    "# 단어와 빈도수의 쌍(pair)을 key와 value로 받는다.\n",
    "for key, value in tar_tokenizer.word_counts.items():\n",
    "    total_freq = total_freq + value\n",
    "\n",
    "    # 단어의 등장 빈도수가 threshold보다 작으면\n",
    "    if(value < threshold):\n",
    "        rare_cnt = rare_cnt + 1\n",
    "        rare_freq = rare_freq + value\n",
    "\n",
    "print('단어 집합(vocabulary)의 크기 :',total_cnt)\n",
    "print('등장 빈도가 %s번 이하인 희귀 단어의 수: %s'%(threshold - 1, rare_cnt))\n",
    "print('단어 집합에서 희귀 단어를 제외시킬 경우의 단어 집합의 크기 %s'%(total_cnt - rare_cnt))\n",
    "print(\"단어 집합에서 희귀 단어의 비율:\", (rare_cnt / total_cnt)*100)\n",
    "print(\"전체 등장 빈도에서 희귀 단어 등장 빈도 비율:\", (rare_freq / total_freq)*100)"
   ]
  },
  {
   "cell_type": "code",
   "execution_count": 66,
   "metadata": {},
   "outputs": [
    {
     "name": "stdout",
     "output_type": "stream",
     "text": [
      "input\n",
      "input  [[1, 141, 1190, 5, 419, 1698], [1, 435, 1821, 3, 101, 11, 457], [1, 1191, 10, 27], [1, 28, 329, 673, 49, 1533, 11], [1, 1924, 19, 26, 35, 9]]\n",
      "target\n",
      "decoder  [[141, 1190, 5, 419, 1698, 2], [435, 1821, 3, 101, 11, 457, 2], [1191, 10, 27, 2], [28, 329, 673, 49, 1533, 11, 2], [1924, 19, 26, 35, 9, 2]]\n"
     ]
    }
   ],
   "source": [
    "tar_vocab = 2000\n",
    "tar_tokenizer = Tokenizer(num_words = tar_vocab) \n",
    "tar_tokenizer.fit_on_texts(decoder_input_train)\n",
    "tar_tokenizer.fit_on_texts(decoder_target_train)\n",
    "\n",
    "# 텍스트 시퀀스를 정수 시퀀스로 변환\n",
    "decoder_input_train = tar_tokenizer.texts_to_sequences(decoder_input_train) \n",
    "decoder_target_train = tar_tokenizer.texts_to_sequences(decoder_target_train)\n",
    "decoder_input_test = tar_tokenizer.texts_to_sequences(decoder_input_test)\n",
    "decoder_target_test = tar_tokenizer.texts_to_sequences(decoder_target_test)\n",
    "\n",
    "#잘 변환되었는지 확인\n",
    "print('input')\n",
    "print('input ',decoder_input_train[:5])\n",
    "print('target')\n",
    "print('decoder ',decoder_target_train[:5])"
   ]
  },
  {
   "cell_type": "markdown",
   "metadata": {},
   "source": [
    "## 길이를 이용한 마지막 전처리 -empty sample "
   ]
  },
  {
   "cell_type": "code",
   "execution_count": 67,
   "metadata": {},
   "outputs": [
    {
     "name": "stdout",
     "output_type": "stream",
     "text": [
      "삭제할 훈련 데이터의 개수 : 9\n",
      "삭제할 테스트 데이터의 개수 : 3\n",
      "훈련 데이터의 개수 : 21619\n",
      "훈련 레이블의 개수 : 21619\n",
      "테스트 데이터의 개수 : 5403\n",
      "테스트 레이블의 개수 : 5403\n"
     ]
    }
   ],
   "source": [
    "drop_train = [index for index, sentence in enumerate(decoder_input_train) if len(sentence) == 1]\n",
    "drop_test = [index for index, sentence in enumerate(decoder_input_test) if len(sentence) == 1]\n",
    "\n",
    "print('삭제할 훈련 데이터의 개수 :',len(drop_train))\n",
    "print('삭제할 테스트 데이터의 개수 :',len(drop_test))\n",
    "\n",
    "encoder_input_train = np.delete(encoder_input_train, drop_train, axis=0)\n",
    "decoder_input_train = np.delete(decoder_input_train, drop_train, axis=0)\n",
    "decoder_target_train = np.delete(decoder_target_train, drop_train, axis=0)\n",
    "\n",
    "encoder_input_test = np.delete(encoder_input_test, drop_test, axis=0)\n",
    "decoder_input_test = np.delete(decoder_input_test, drop_test, axis=0)\n",
    "decoder_target_test = np.delete(decoder_target_test, drop_test, axis=0)\n",
    "\n",
    "print('훈련 데이터의 개수 :', len(encoder_input_train))\n",
    "print('훈련 레이블의 개수 :',len(decoder_input_train))\n",
    "print('테스트 데이터의 개수 :',len(encoder_input_test))\n",
    "print('테스트 레이블의 개수 :',len(decoder_input_test))"
   ]
  },
  {
   "cell_type": "markdown",
   "metadata": {},
   "source": [
    "# 패딩 "
   ]
  },
  {
   "cell_type": "code",
   "execution_count": 68,
   "metadata": {},
   "outputs": [],
   "source": [
    "encoder_input_train = pad_sequences(encoder_input_train, maxlen = text_max_len, padding='post')\n",
    "encoder_input_test = pad_sequences(encoder_input_test, maxlen = text_max_len, padding='post')\n",
    "decoder_input_train = pad_sequences(decoder_input_train, maxlen = summary_max_len, padding='post')\n",
    "decoder_target_train = pad_sequences(decoder_target_train, maxlen = summary_max_len, padding='post')\n",
    "decoder_input_test = pad_sequences(decoder_input_test, maxlen = summary_max_len, padding='post')\n",
    "decoder_target_test = pad_sequences(decoder_target_test, maxlen = summary_max_len, padding='post')"
   ]
  },
  {
   "cell_type": "markdown",
   "metadata": {},
   "source": [
    "# 모델 구현 "
   ]
  },
  {
   "cell_type": "markdown",
   "metadata": {},
   "source": [
    "## 인코더 설계 "
   ]
  },
  {
   "cell_type": "code",
   "execution_count": 69,
   "metadata": {},
   "outputs": [
    {
     "name": "stdout",
     "output_type": "stream",
     "text": [
      "WARNING:tensorflow:Layer lstm will not use cuDNN kernel since it doesn't meet the cuDNN kernel criteria. It will use generic GPU kernel as fallback when running on GPU\n",
      "WARNING:tensorflow:Layer lstm_1 will not use cuDNN kernel since it doesn't meet the cuDNN kernel criteria. It will use generic GPU kernel as fallback when running on GPU\n",
      "WARNING:tensorflow:Layer lstm_2 will not use cuDNN kernel since it doesn't meet the cuDNN kernel criteria. It will use generic GPU kernel as fallback when running on GPU\n"
     ]
    }
   ],
   "source": [
    "from tensorflow.keras.layers import Input, LSTM, Embedding, Dense, Concatenate\n",
    "from tensorflow.keras.models import Model\n",
    "from tensorflow.keras.callbacks import EarlyStopping, ModelCheckpoint\n",
    "\n",
    "\n",
    "# 인코더 설계 시작\n",
    "embedding_dim = 128\n",
    "hidden_size = 256\n",
    "\n",
    "# 인코더\n",
    "encoder_inputs = Input(shape=(text_max_len,))\n",
    "\n",
    "# 인코더의 임베딩 층\n",
    "enc_emb = Embedding(src_vocab, embedding_dim)(encoder_inputs)\n",
    "\n",
    "# 인코더의 LSTM 1\n",
    "encoder_lstm1 = LSTM(hidden_size, return_sequences=True, return_state=True ,dropout = 0.4, recurrent_dropout = 0.4)\n",
    "encoder_output1, state_h1, state_c1 = encoder_lstm1(enc_emb)\n",
    "\n",
    "# 인코더의 LSTM 2\n",
    "encoder_lstm2 = LSTM(hidden_size, return_sequences=True, return_state=True, dropout=0.4, recurrent_dropout=0.4)\n",
    "encoder_output2, state_h2, state_c2 = encoder_lstm2(encoder_output1)\n",
    "\n",
    "# 인코더의 LSTM 3\n",
    "encoder_lstm3 = LSTM(hidden_size, return_state=True, return_sequences=True, dropout=0.4, recurrent_dropout=0.4)\n",
    "encoder_outputs, state_h, state_c= encoder_lstm3(encoder_output2)"
   ]
  },
  {
   "cell_type": "markdown",
   "metadata": {},
   "source": [
    "## 디코더 설계"
   ]
  },
  {
   "cell_type": "code",
   "execution_count": 70,
   "metadata": {},
   "outputs": [
    {
     "name": "stdout",
     "output_type": "stream",
     "text": [
      "WARNING:tensorflow:Layer lstm_3 will not use cuDNN kernel since it doesn't meet the cuDNN kernel criteria. It will use generic GPU kernel as fallback when running on GPU\n"
     ]
    }
   ],
   "source": [
    "# 디코더 설계\n",
    "\n",
    "decoder_inputs = Input(shape=(None,))\n",
    "\n",
    "# 디코더의 임베딩 층\n",
    "dec_emb_layer = Embedding(tar_vocab, embedding_dim)\n",
    "dec_emb = dec_emb_layer(decoder_inputs)\n",
    "\n",
    "# 디코더의 LSTM\n",
    "decoder_lstm = LSTM(hidden_size, return_sequences = True, return_state = True, dropout = 0.4, recurrent_dropout=0.2)\n",
    "decoder_outputs, _, _ = decoder_lstm(dec_emb, initial_state = [state_h, state_c])"
   ]
  },
  {
   "cell_type": "markdown",
   "metadata": {},
   "source": [
    "## 디코더 출력층 설계 "
   ]
  },
  {
   "cell_type": "code",
   "execution_count": 71,
   "metadata": {},
   "outputs": [
    {
     "name": "stdout",
     "output_type": "stream",
     "text": [
      "Model: \"model\"\n",
      "__________________________________________________________________________________________________\n",
      "Layer (type)                    Output Shape         Param #     Connected to                     \n",
      "==================================================================================================\n",
      "input_1 (InputLayer)            [(None, 45)]         0                                            \n",
      "__________________________________________________________________________________________________\n",
      "embedding (Embedding)           (None, 45, 128)      1024000     input_1[0][0]                    \n",
      "__________________________________________________________________________________________________\n",
      "lstm (LSTM)                     [(None, 45, 256), (N 394240      embedding[0][0]                  \n",
      "__________________________________________________________________________________________________\n",
      "input_2 (InputLayer)            [(None, None)]       0                                            \n",
      "__________________________________________________________________________________________________\n",
      "lstm_1 (LSTM)                   [(None, 45, 256), (N 525312      lstm[0][0]                       \n",
      "__________________________________________________________________________________________________\n",
      "embedding_1 (Embedding)         (None, None, 128)    256000      input_2[0][0]                    \n",
      "__________________________________________________________________________________________________\n",
      "lstm_2 (LSTM)                   [(None, 45, 256), (N 525312      lstm_1[0][0]                     \n",
      "__________________________________________________________________________________________________\n",
      "lstm_3 (LSTM)                   [(None, None, 256),  394240      embedding_1[0][0]                \n",
      "                                                                 lstm_2[0][1]                     \n",
      "                                                                 lstm_2[0][2]                     \n",
      "__________________________________________________________________________________________________\n",
      "dense (Dense)                   (None, None, 2000)   514000      lstm_3[0][0]                     \n",
      "==================================================================================================\n",
      "Total params: 3,633,104\n",
      "Trainable params: 3,633,104\n",
      "Non-trainable params: 0\n",
      "__________________________________________________________________________________________________\n"
     ]
    }
   ],
   "source": [
    "# 디코더의 출력층\n",
    "decoder_softmax_layer = Dense(tar_vocab, activation = 'softmax')\n",
    "decoder_softmax_outputs = decoder_softmax_layer(decoder_outputs) \n",
    "\n",
    "# 모델 정의\n",
    "model = Model([encoder_inputs, decoder_inputs], decoder_softmax_outputs)\n",
    "model.summary()"
   ]
  },
  {
   "cell_type": "markdown",
   "metadata": {},
   "source": [
    "# 어텐션 함수 디코더 출력층에 결합 "
   ]
  },
  {
   "cell_type": "code",
   "execution_count": 72,
   "metadata": {},
   "outputs": [],
   "source": [
    "urllib.request.urlretrieve(\"https://raw.githubusercontent.com/thushv89/attention_keras/master/src/layers/attention.py\", filename=\"attention.py\")\n",
    "from attention import AttentionLayer"
   ]
  },
  {
   "cell_type": "code",
   "execution_count": 73,
   "metadata": {},
   "outputs": [
    {
     "name": "stdout",
     "output_type": "stream",
     "text": [
      "Model: \"model_1\"\n",
      "__________________________________________________________________________________________________\n",
      "Layer (type)                    Output Shape         Param #     Connected to                     \n",
      "==================================================================================================\n",
      "input_1 (InputLayer)            [(None, 45)]         0                                            \n",
      "__________________________________________________________________________________________________\n",
      "embedding (Embedding)           (None, 45, 128)      1024000     input_1[0][0]                    \n",
      "__________________________________________________________________________________________________\n",
      "lstm (LSTM)                     [(None, 45, 256), (N 394240      embedding[0][0]                  \n",
      "__________________________________________________________________________________________________\n",
      "input_2 (InputLayer)            [(None, None)]       0                                            \n",
      "__________________________________________________________________________________________________\n",
      "lstm_1 (LSTM)                   [(None, 45, 256), (N 525312      lstm[0][0]                       \n",
      "__________________________________________________________________________________________________\n",
      "embedding_1 (Embedding)         (None, None, 128)    256000      input_2[0][0]                    \n",
      "__________________________________________________________________________________________________\n",
      "lstm_2 (LSTM)                   [(None, 45, 256), (N 525312      lstm_1[0][0]                     \n",
      "__________________________________________________________________________________________________\n",
      "lstm_3 (LSTM)                   [(None, None, 256),  394240      embedding_1[0][0]                \n",
      "                                                                 lstm_2[0][1]                     \n",
      "                                                                 lstm_2[0][2]                     \n",
      "__________________________________________________________________________________________________\n",
      "attention_layer (AttentionLayer ((None, None, 256),  131328      lstm_2[0][0]                     \n",
      "                                                                 lstm_3[0][0]                     \n",
      "__________________________________________________________________________________________________\n",
      "concat_layer (Concatenate)      (None, None, 512)    0           lstm_3[0][0]                     \n",
      "                                                                 attention_layer[0][0]            \n",
      "__________________________________________________________________________________________________\n",
      "dense_1 (Dense)                 (None, None, 2000)   1026000     concat_layer[0][0]               \n",
      "==================================================================================================\n",
      "Total params: 4,276,432\n",
      "Trainable params: 4,276,432\n",
      "Non-trainable params: 0\n",
      "__________________________________________________________________________________________________\n"
     ]
    }
   ],
   "source": [
    "# 어텐션 층(어텐션 함수)\n",
    "attn_layer = AttentionLayer(name='attention_layer')\n",
    "# 인코더와 디코더의 모든 time step의 hidden state를 어텐션 층에 전달하고 결과를 리턴\n",
    "attn_out, attn_states = attn_layer([encoder_outputs, decoder_outputs])\n",
    "\n",
    "# 어텐션의 결과와 디코더의 hidden state들을 연결\n",
    "decoder_concat_input = Concatenate(axis = -1, name='concat_layer')([decoder_outputs, attn_out])\n",
    "\n",
    "# 디코더의 출력층\n",
    "decoder_softmax_layer = Dense(tar_vocab, activation='softmax')\n",
    "decoder_softmax_outputs = decoder_softmax_layer(decoder_concat_input)\n",
    "\n",
    "# 모델 정의\n",
    "model = Model([encoder_inputs, decoder_inputs], decoder_softmax_outputs)\n",
    "model.summary()"
   ]
  },
  {
   "cell_type": "markdown",
   "metadata": {},
   "source": [
    "# 훈련 "
   ]
  },
  {
   "cell_type": "code",
   "execution_count": 74,
   "metadata": {},
   "outputs": [
    {
     "name": "stdout",
     "output_type": "stream",
     "text": [
      "Epoch 1/50\n",
      "85/85 [==============================] - 27s 316ms/step - loss: 4.9374 - val_loss: 4.5358\n",
      "Epoch 2/50\n",
      "85/85 [==============================] - 26s 307ms/step - loss: 4.5125 - val_loss: 4.3647\n",
      "Epoch 3/50\n",
      "85/85 [==============================] - 26s 305ms/step - loss: 4.3356 - val_loss: 4.2368\n",
      "Epoch 4/50\n",
      "85/85 [==============================] - 28s 332ms/step - loss: 4.1939 - val_loss: 4.0959\n",
      "Epoch 5/50\n",
      "85/85 [==============================] - 28s 332ms/step - loss: 4.0312 - val_loss: 3.9562\n",
      "Epoch 6/50\n",
      "85/85 [==============================] - 27s 319ms/step - loss: 3.8707 - val_loss: 3.8637\n",
      "Epoch 7/50\n",
      "85/85 [==============================] - 27s 315ms/step - loss: 3.7418 - val_loss: 3.8061\n",
      "Epoch 8/50\n",
      "85/85 [==============================] - 27s 321ms/step - loss: 3.6272 - val_loss: 3.7044\n",
      "Epoch 9/50\n",
      "85/85 [==============================] - 28s 331ms/step - loss: 3.5170 - val_loss: 3.6334\n",
      "Epoch 10/50\n",
      "85/85 [==============================] - 30s 357ms/step - loss: 3.4134 - val_loss: 3.5666\n",
      "Epoch 11/50\n",
      "85/85 [==============================] - 30s 358ms/step - loss: 3.3209 - val_loss: 3.5421\n",
      "Epoch 12/50\n",
      "85/85 [==============================] - 30s 352ms/step - loss: 3.2354 - val_loss: 3.4959\n",
      "Epoch 13/50\n",
      "85/85 [==============================] - 29s 347ms/step - loss: 3.1547 - val_loss: 3.4633\n",
      "Epoch 14/50\n",
      "85/85 [==============================] - 27s 316ms/step - loss: 3.0781 - val_loss: 3.4414\n",
      "Epoch 15/50\n",
      "85/85 [==============================] - 27s 321ms/step - loss: 3.0080 - val_loss: 3.4181\n",
      "Epoch 16/50\n",
      "85/85 [==============================] - 26s 310ms/step - loss: 2.9362 - val_loss: 3.4008\n",
      "Epoch 17/50\n",
      "85/85 [==============================] - 27s 314ms/step - loss: 2.8721 - val_loss: 3.4133\n",
      "Epoch 18/50\n",
      "85/85 [==============================] - 27s 314ms/step - loss: 2.8104 - val_loss: 3.3767\n",
      "Epoch 19/50\n",
      "85/85 [==============================] - 30s 349ms/step - loss: 2.7484 - val_loss: 3.3634\n",
      "Epoch 20/50\n",
      "85/85 [==============================] - 31s 360ms/step - loss: 2.6911 - val_loss: 3.3492\n",
      "Epoch 21/50\n",
      "85/85 [==============================] - 31s 363ms/step - loss: 2.6345 - val_loss: 3.3462\n",
      "Epoch 22/50\n",
      "85/85 [==============================] - 31s 365ms/step - loss: 2.5786 - val_loss: 3.3375\n",
      "Epoch 23/50\n",
      "85/85 [==============================] - 31s 362ms/step - loss: 2.5259 - val_loss: 3.3503\n",
      "Epoch 24/50\n",
      "85/85 [==============================] - 31s 363ms/step - loss: 2.4759 - val_loss: 3.3474\n",
      "Epoch 00024: early stopping\n"
     ]
    }
   ],
   "source": [
    "model.compile(optimizer='rmsprop', loss='sparse_categorical_crossentropy')\n",
    "es = EarlyStopping(monitor='val_loss', mode='min', verbose=1, patience = 2)\n",
    "history = model.fit(x = [encoder_input_train, decoder_input_train], y = decoder_target_train, \\\n",
    "          validation_data = ([encoder_input_test, decoder_input_test], decoder_target_test),\n",
    "          batch_size = 256, callbacks=[es], epochs = 50)"
   ]
  },
  {
   "cell_type": "code",
   "execution_count": 75,
   "metadata": {},
   "outputs": [
    {
     "data": {
      "image/png": "[encoded data removed]",
      "text/plain": [
       "<Figure size 432x288 with 1 Axes>"
      ]
     },
     "metadata": {
      "needs_background": "light"
     },
     "output_type": "display_data"
    }
   ],
   "source": [
    "plt.plot(history.history['loss'], label='train')\n",
    "plt.plot(history.history['val_loss'], label='test')\n",
    "plt.legend()\n",
    "plt.show()"
   ]
  },
  {
   "cell_type": "markdown",
   "metadata": {},
   "source": [
    "# 실제 데이터 복원 "
   ]
  },
  {
   "cell_type": "code",
   "execution_count": 76,
   "metadata": {},
   "outputs": [],
   "source": [
    "src_index_to_word = src_tokenizer.index_word # 원문 단어 집합에서 정수 -> 단어를 얻음\n",
    "tar_word_to_index = tar_tokenizer.word_index # 요약 단어 집합에서 단어 -> 정수를 얻음\n",
    "tar_index_to_word = tar_tokenizer.index_word # 요약 단어 집합에서 정수 -> 단어를 얻음"
   ]
  },
  {
   "cell_type": "markdown",
   "metadata": {},
   "source": [
    "# 인퍼런스 모드 모델 설계"
   ]
  },
  {
   "cell_type": "code",
   "execution_count": 77,
   "metadata": {},
   "outputs": [],
   "source": [
    "# 인코더 설계\n",
    "encoder_model = Model(inputs=encoder_inputs, outputs=[encoder_outputs, state_h, state_c])\n",
    "\n",
    "# 이전 시점의 상태들을 저장하는 텐서\n",
    "decoder_state_input_h = Input(shape=(hidden_size,))\n",
    "decoder_state_input_c = Input(shape=(hidden_size,))\n",
    "\n",
    "dec_emb2 = dec_emb_layer(decoder_inputs)\n",
    "# 문장의 다음 단어를 예측하기 위해서 초기 상태(initial_state)를 이전 시점의 상태로 사용. 이는 뒤의 함수 decode_sequence()에 구현\n",
    "# 훈련 과정에서와 달리 LSTM의 리턴하는 은닉 상태와 셀 상태인 state_h와 state_c를 버리지 않음.\n",
    "decoder_outputs2, state_h2, state_c2 = decoder_lstm(dec_emb2, initial_state=[decoder_state_input_h, decoder_state_input_c])"
   ]
  },
  {
   "cell_type": "code",
   "execution_count": 78,
   "metadata": {},
   "outputs": [],
   "source": [
    "# 어텐션 함수\n",
    "decoder_hidden_state_input = Input(shape=(text_max_len, hidden_size))\n",
    "attn_out_inf, attn_states_inf = attn_layer([decoder_hidden_state_input, decoder_outputs2])\n",
    "decoder_inf_concat = Concatenate(axis=-1, name='concat')([decoder_outputs2, attn_out_inf])\n",
    "\n",
    "# 디코더의 출력층\n",
    "decoder_outputs2 = decoder_softmax_layer(decoder_inf_concat) \n",
    "\n",
    "# 최종 디코더 모델\n",
    "decoder_model = Model(\n",
    "    [decoder_inputs] + [decoder_hidden_state_input,decoder_state_input_h, decoder_state_input_c],\n",
    "    [decoder_outputs2] + [state_h2, state_c2])"
   ]
  },
  {
   "cell_type": "code",
   "execution_count": 79,
   "metadata": {},
   "outputs": [],
   "source": [
    "def decode_sequence(input_seq):\n",
    "    # 입력으로부터 인코더의 상태를 얻음\n",
    "    e_out, e_h, e_c = encoder_model.predict(input_seq)\n",
    "\n",
    "     # <SOS>에 해당하는 토큰 생성\n",
    "    target_seq = np.zeros((1,1))\n",
    "    target_seq[0, 0] = tar_word_to_index['sostoken']\n",
    "\n",
    "    stop_condition = False\n",
    "    decoded_sentence = ''\n",
    "    while not stop_condition: # stop_condition이 True가 될 때까지 루프 반복\n",
    "\n",
    "        output_tokens, h, c = decoder_model.predict([target_seq] + [e_out, e_h, e_c])\n",
    "        sampled_token_index = np.argmax(output_tokens[0, -1, :])\n",
    "        sampled_token = tar_index_to_word[sampled_token_index]\n",
    "\n",
    "        if(sampled_token!='eostoken'):\n",
    "            decoded_sentence += ' '+sampled_token\n",
    "\n",
    "        #  <eos>에 도달하거나 최대 길이를 넘으면 중단.\n",
    "        if (sampled_token == 'eostoken'  or len(decoded_sentence.split()) >= (summary_max_len-1)):\n",
    "            stop_condition = True\n",
    "\n",
    "        # 길이가 1인 타겟 시퀀스를 업데이트\n",
    "        target_seq = np.zeros((1,1))\n",
    "        target_seq[0, 0] = sampled_token_index\n",
    "\n",
    "        # 상태를 업데이트 합니다.\n",
    "        e_h, e_c = h, c\n",
    "\n",
    "    return decoded_sentence"
   ]
  },
  {
   "cell_type": "markdown",
   "metadata": {},
   "source": [
    "## 정수 시퀀스 -> 텍스트 시퀀스 변환"
   ]
  },
  {
   "cell_type": "code",
   "execution_count": 80,
   "metadata": {},
   "outputs": [],
   "source": [
    "# 원문의 정수 시퀀스를 텍스트 시퀀스로 변환\n",
    "def seq2text(input_seq):\n",
    "    temp=''\n",
    "    for i in input_seq:\n",
    "        if(i!=0):\n",
    "            temp = temp + src_index_to_word[i]+' '\n",
    "    return temp\n",
    "\n",
    "# 요약문의 정수 시퀀스를 텍스트 시퀀스로 변환\n",
    "def seq2summary(input_seq):\n",
    "    temp=''\n",
    "    for i in input_seq:\n",
    "        if((i!=0 and i!=tar_word_to_index['sostoken']) and i!=tar_word_to_index['eostoken']):\n",
    "            temp = temp + tar_index_to_word[i] + ' '\n",
    "    return temp"
   ]
  },
  {
   "cell_type": "code",
   "execution_count": 81,
   "metadata": {},
   "outputs": [
    {
     "name": "stdout",
     "output_type": "stream",
     "text": [
      "원문 : karnataka cm siddaramaiah tuesday called uttar pradesh cm yogi adityanath supporter assassinated mahatma gandhi adding need learn cm siddaramaiah said adityanath raj uttar pradesh comes adityanath said working siddaramaiah allies \n",
      "실제 요약 : yogi adityanath is karnataka cm \n",
      "예측 요약 :  karnataka cm adityanath to join\n",
      "\n",
      "\n",
      "원문 : bollywood celebrities including kangana ranaut karan johar rao aamir khan along wife kiran rao attended opening ceremony th mumbai film festival veteran actress sharmila felicitated excellence cinema award contribution indian movies ceremony hosted kunal kapoor rao \n",
      "실제 요약 : kangana aamir attend mumbai film \n",
      "예측 요약 :  manikarnika manikarnika to attend\n",
      "\n",
      "\n",
      "원문 : rajasthan government monday announced reservations five communities backward classes category comes leaders threatened launch protests pm narendra modi upcoming jaipur visit seeking reservation within quota violate supreme court cap \n",
      "실제 요약 : rajasthan approves reservation for other \n",
      "예측 요약 :  maharashtra to ban on\n",
      "\n",
      "\n",
      "원문 : people twenty countries raised lakh three year old mumbai girl cancer treatment sum total cost surgery raised days crowd funding project know people ever forget efforts help save daughter life girl father said \n",
      "실제 요약 : people raise lakh for yr old cancer treatment \n",
      "예측 요약 :  crore in bengaluru for crore\n",
      "\n",
      "\n",
      "원문 : independent united nations accused north korea supplying ballistic missile systems along conventional weapons including rocket surface air missiles myanmar report un security council sanctions committee also accused north korea supplying weapons syria violating un sanctions banned commodities \n",
      "실제 요약 : korea to myanmar un \n",
      "예측 요약 :  korea missile missile missile\n",
      "\n",
      "\n",
      "원문 : tsunami waves metres level recorded mexican cities cruz earthquake magnitude struck mexican coast today tsunami alerts issued several countries waves level expected australia japan meanwhile least five casualties reported mexico \n",
      "실제 요약 : strike coast after \n",
      "예측 요약 :  earthquake hits nepal hits nepal\n",
      "\n",
      "\n",
      "원문 : delhi police monday arrested thieves found belonging one large extended family based village near agra family worked group used steal mobile phones metro passengers day police said accused reportedly targeted passengers every taking advantage rush metro trains \n",
      "실제 요약 : delhi police arrest to single family \n",
      "예측 요약 :  delhi police arrested for assaulting metro\n",
      "\n",
      "\n",
      "원문 : south africa defeated india runs test wednesday taking series lead ending india record streak nine consecutive series wins last time india lost test series australia defeated four match series last test start january \n",
      "실제 요약 : india lose their first test series in years \n",
      "예측 요약 :  india beat world highest in\n",
      "\n",
      "\n",
      "원문 : twitter admitted city level location revealed users may intended tag city tweets twitter said issue affected small percentage people location sharing option turned bug affected users tweeted twitter com add emoji gif \n",
      "실제 요약 : twitter admits to users without \n",
      "예측 요약 :  twitter releases photos videos on\n",
      "\n",
      "\n",
      "원문 : parents year old dengue victim alleged fortis hospital lakh day stay hospital claimed followed standard medical hospital maintained patient family kept informed critical condition also stated family discharged medical advice died day \n",
      "실제 요약 : hospital to allegations of lakh bill \n",
      "예측 요약 :  woman gets lakh to hospital\n",
      "\n",
      "\n",
      "원문 : income tax department reportedly issued fresh notice deepak kochhar icici bank ceo kochhar husband crore icici bank videocon loan row notice reportedly sought details personal assets including mumbai tax department looking flow crore two mauritius based firms deepak \n",
      "실제 요약 : dept issues notice to husband \n",
      "예측 요약 :  dept dept dept issues to crore\n",
      "\n",
      "\n",
      "원문 : jacqueline fernandez received international humanitarian award author honoured lifetime achievement award second annual asian voice charity awards held london dedicated award humanity international charity fighting poverty said award love asian community \n",
      "실제 요약 : jacqueline receive uk based charity awards \n",
      "예측 요약 :  sridevi first award with award\n",
      "\n",
      "\n",
      "원문 : teacher convicted sexually harassing three minor students two months ago allowed mumbai based school incident took place however school management cited labour legal teacher currently bail approached bombay high court lower court order \n",
      "실제 요약 : teacher convicted of sexually harassing students school \n",
      "예측 요약 :  students arrested for sexually assaulting minor girl\n",
      "\n",
      "\n",
      "원문 : losses war islamic state cost iraq billion prime minister al said saturday however iraq achieved success land maintaining country unity standing threats added comes iraqi forces launched operation saturday last isis held towns iraq \n",
      "실제 요약 : war against isis cost billion iraq pm \n",
      "예측 요약 :  isis pakistan to afghanistan in afghanistan\n",
      "\n",
      "\n",
      "원문 : tata sons chairman said nano reason adding model makes money said shutting giving nano life billion dollar question company nano losses tata motors passenger cars make yearly added \n",
      "실제 요약 : for no tata chairman \n",
      "예측 요약 :  vodafone idea merger to merger\n",
      "\n",
      "\n",
      "원문 : reacting us president donald trump umbrella air force one twitter user wrote bad fly away users tweeted tremendous balance nobody balance wind like even umbrella want presence \n",
      "실제 요약 : twitter reacts to trump with an \n",
      "예측 요약 :  trump twitter to trump\n",
      "\n",
      "\n",
      "원문 : truck driver dragged car trapped rear wheel truck along highway california united states video captured brian shows car driver hands saying stopping highway police however stated charges truck driver \n",
      "실제 요약 : truck driver car along highway \n",
      "예측 요약 :  plane after explodes at truck\n",
      "\n",
      "\n",
      "원문 : un general assembly friday elected south africa indonesia republic germany belgium non permanent members security council terms begin january next year non permanent members elected two year term security council composed members five permanent non permanent \n",
      "실제 요약 : five new countries elected to un security council \n",
      "예측 요약 :  uk parliament to end\n",
      "\n",
      "\n",
      "원문 : uk queen elizabeth supplier fired revelation personal details royal firm founder june autobiography year old founder said losing royal warrant absolutely killed enough mention royals autobiography \n",
      "실제 요약 : queen fired for personal details \n",
      "예측 요약 :  indian origin executives awarded nobel prize\n",
      "\n",
      "\n",
      "원문 : two russians mistakenly reached coast mumbai trip tuesday according reports russian couple released police identities verified russian embassy police reportedly concerned boat managed navy coast guard surveillance \n",
      "실제 요약 : reach mumbai coast by mistake \n",
      "예측 요약 :  police get on\n",
      "\n",
      "\n",
      "원문 : india congress general secretary alleged puducherry lieutenant governor kiran bedi functioning like representative bjp questioned bedi clear files related several welfare measures sought implemented congress government union territory bedi must work without getting political side added \n",
      "실제 요약 : working as bjp congress \n",
      "예측 요약 :  congress has not congress\n",
      "\n",
      "\n",
      "원문 : actress kareena kapoor khan showstopper designer khanna grand fashion week summer resort walked black paired earrings designer collection collection ready wear truly said kareena \n",
      "실제 요약 : kareena turns showstopper for fashion week \n",
      "예측 요약 :  katrina shares pic with\n",
      "\n",
      "\n",
      "원문 : elon musk led electric vehicle startup tesla entered fortune list first time rd position revenue billion tesla entered list ranks biggest companies us revenue following fortune replied tweet musk telling look day \n",
      "실제 요약 : tesla enters list for the first time \n",
      "예측 요약 :  tesla tesla tesla worth billion\n",
      "\n",
      "\n",
      "원문 : ministry health family welfare tuesday launched two new drug ten states launched mission vikas central family planning initiative available free medical colleges district hospitals training healthcare also completed support roll \n",
      "실제 요약 : government launches two new free in states \n",
      "예측 요약 :  govt launches for airports\n",
      "\n",
      "\n",
      "원문 : us based snap maker photo sharing app snapchat said company lost nearly million camera glasses called company said loss primarily related reserves cancellation charges significant number users returned notably accounted snap losses third quarter \n",
      "실제 요약 : loses nearly million on camera \n",
      "예측 요약 :  youtube did iphone iphone\n",
      "\n",
      "\n",
      "원문 : run knock new zealand wednesday indian cricket team captain virat kohli south africa amla become year highest run scorer international cricket kohli scored runs innings year six amla kohli also number international centuries year seven \n",
      "실제 요약 : kohli to become highest run \n"
     ]
    },
    {
     "name": "stdout",
     "output_type": "stream",
     "text": [
      "예측 요약 :  helps dhoni fastest to reach runs\n",
      "\n",
      "\n",
      "원문 : two years old lost parents mumbai terror attack arrived mumbai tuesday nine years thursday israeli pm benjamin netanyahu house lived time attack memorial project dedicated terror attack victims \n",
      "실제 요약 : baby in mumbai after years \n",
      "예측 요약 :  man stranded in mumbai\n",
      "\n",
      "\n",
      "원문 : issued red corner notice fugitive businessman mehul choksi request central bureau investigation enforcement directorate sent september application seeking red corner notice choksi key accused crore pnb money laundering case \n",
      "실제 요약 : issues red notice against \n",
      "예측 요약 :  arrested in delhi court over\n",
      "\n",
      "\n",
      "원문 : study conducted institute technology claims year old entrepreneur lie added new ventures highest growth average founder age less high performance startup firms founded year study analysed million people founded businesses least one employee \n",
      "실제 요약 : year old is claims mit study \n",
      "예측 요약 :  founder co founder becomes\n",
      "\n",
      "\n",
      "원문 : square foot parking space hong kong sold million according land registration records parking space set property price record even cost hong kong homes property prices keep higher hong kong entire car park building sold billion last month \n",
      "실제 요약 : parking space sells for over crore \n",
      "예측 요약 :  world largest launched in world largest\n",
      "\n",
      "\n",
      "원문 : dozen containing one million recently reported stolen local park austria police involved residents noticed covers wooden boxes containing removed losses around lakh terms lost stolen \n",
      "실제 요약 : one million reported stolen in town \n",
      "예측 요약 :  crore worth crore seized in\n",
      "\n",
      "\n",
      "원문 : elon musk announced startup boring company plan part tunnels hyperloop pedestrians cars instead taking personal cars underground via buses carrying several passengers deployed boring company tunnels cars transported via avoid traffic \n",
      "실제 요약 : musk company to over cars \n",
      "예측 요약 :  tesla launches for\n",
      "\n",
      "\n",
      "원문 : lok sabha speaker mahajan written mps three sessions left several items work still urging responsibilities added cycle continue mps disruptions citing conduct parties past \n",
      "실제 요약 : only speaker to mps \n",
      "예측 요약 :  should be\n",
      "\n",
      "\n",
      "원문 : united states california contest making using cigarette winner taylor lane spent summer picking cigarette sand beach parking local roads entries included made using used old bathroom door \n",
      "실제 요약 : man makes of wins contest \n",
      "예측 요약 :  us man accidentally caught himself\n",
      "\n",
      "\n",
      "원문 : hour bandh called student organisations indigenous groups across northeast began tuesday protest centre decision table citizenship bill parliament shops financial institutions shut private offices educational institutions closed tyres burnt roads various places assam prevent movement vehicles \n",
      "실제 요약 : begins in against citizenship bill \n",
      "예측 요약 :  arrested in protest against in maharashtra\n",
      "\n",
      "\n",
      "원문 : bengaluru based online healthcare startup raised million series funding round led prime venture partners existing investors venture partners healthcare entrepreneur also participated round founded startup offers app based service patients access online care programs different hospitals \n",
      "실제 요약 : online healthcare startup raises million \n",
      "예측 요약 :  raises million from softbank valuation\n",
      "\n",
      "\n",
      "원문 : germany transport ministry monday said lakh mercedes benz vehicles found contain software defeat devices europe germany also ordered mercedes benz parent recall cars country said work removing software cooperate authorities authorities said \n",
      "실제 요약 : lakh mercedes cars have germany \n",
      "예측 요약 :  to shut in\n",
      "\n",
      "\n",
      "원문 : windies defeated india wickets one sunday chasing register highest successful chase home windies lewis became third batsman score two centuries cricket chris gayle first international match since april dinesh karthik featured seven years \n",
      "실제 요약 : defeat india by wickets in one off \n",
      "예측 요약 :  india beat world highest in\n",
      "\n",
      "\n",
      "원문 : teaser superhero film black film based marvel character name released stars actor lead role plays king fictional african nation directed ryan film scheduled release february us \n",
      "실제 요약 : teaser of film black released \n",
      "예측 요약 :  teaser of released\n",
      "\n",
      "\n",
      "원문 : new poster sanjay dutt biopic sanju featuring actress anushka sharma released special appearance worked every role days together wrote film director rajkumar hirani sharing poster earlier anushka said character fictional character film \n",
      "실제 요약 : poster of ranbir featuring anushka sharma released \n",
      "예측 요약 :  motion poster of anushka sharma released\n",
      "\n",
      "\n",
      "원문 : security forces friday killed four militants encounter jammu kashmir anantnag district director general police paul tweeted four terrorists suspected links reports suggested jammu kashmir chief among killed policeman civilian also killed encounter \n",
      "실제 요약 : militants with suspected is killed in encounter \n",
      "예측 요약 :  militants killed in encounter in kashmir\n",
      "\n",
      "\n",
      "원문 : cybersecurity research firm demonstrated industrial robots hacked ways could harm humans hack key safety measures put place ensure robots work alongside humans hacked robots human skin using sharp tools cause bones using force \n",
      "실제 요약 : researchers claim hacked robots can humans \n",
      "예측 요약 :  apple files patent for\n",
      "\n",
      "\n",
      "원문 : bitcoin price surged past mark first time ever friday hit total market capitalisation billion hitting latest milestone cryptocurrency surged year date advanced week bitcoin makes value cryptocurrencies market \n",
      "실제 요약 : bitcoin crosses for the first time ever \n",
      "예측 요약 :  bitcoin hits record high of year\n",
      "\n",
      "\n",
      "원문 : many ministers new bihar cabinet face criminal charges higher ministers previous grand alliance government ministers crorepatis little less previous government also minister new cabinet earns average crore \n",
      "실제 요약 : bihar cabinet ministers face criminal charges \n",
      "예측 요약 :  karnataka ministers in nagaland\n",
      "\n",
      "\n",
      "원문 : delhi court observed sexual assault minors every smile every memory every moment happiness coming victim way court awarded year jail term fine man convicted four year old boy court also granted compensation lakh victim \n",
      "실제 요약 : sexual assault on court \n",
      "예측 요약 :  sexual harassment in delhi court\n",
      "\n",
      "\n",
      "원문 : pankaj tripathi said acting like game badminton adding actors either side court players good game automatically becomes interesting talking working actress chadha pankaj said makes good interesting match boring one \n",
      "실제 요약 : is like game of \n",
      "예측 요약 :  do not\n",
      "\n",
      "\n",
      "원문 : australian vice captain david warner said teammates suffered mental lack period ashes last month odi series however added never going put hand say need rest sure notably warner australian play formats since november \n",
      "실제 요약 : warner admits to over \n",
      "예측 요약 :  captain warner calls\n",
      "\n",
      "\n",
      "원문 : australia based research found effective hiv treatment makes virus transmission virus among couples hiv status study claims largest kind followed gay couples high middle income countries like thailand brazil australia four year period \n",
      "실제 요약 : treatment can among study \n",
      "예측 요약 :  year old in\n",
      "\n",
      "\n",
      "원문 : jharkhand minister singh wednesday said swami claims attacked bjp youth workers planned attack gain popularity adding foreign donations minister said saffron dress simple indians fraud swami \n",
      "실제 요약 : attack on himself minister \n",
      "예측 요약 :  bjp leader of\n",
      "\n",
      "\n",
      "원문 : many mass indonesia mass killings alleged found organisation investigating claimed organisation said discovered island could contain around bodies least lakh alleged killed indonesia following failed coup attempt indonesian communist party \n",
      "실제 요약 : mass from indonesia anti found \n",
      "예측 요약 :  us seizes people in us\n",
      "\n",
      "\n"
     ]
    }
   ],
   "source": [
    "for i in range(50, 100):\n",
    "    print(\"원문 :\", seq2text(encoder_input_test[i]))\n",
    "    print(\"실제 요약 :\", seq2summary(decoder_input_test[i]))\n",
    "    print(\"예측 요약 :\", decode_sequence(encoder_input_test[i].reshape(1, text_max_len)))\n",
    "    print(\"\\n\")"
   ]
  },
  {
   "cell_type": "markdown",
   "metadata": {},
   "source": [
    "# 추출적 요약 "
   ]
  },
  {
   "cell_type": "code",
   "execution_count": 3,
   "metadata": {},
   "outputs": [],
   "source": [
    "import requests\n",
    "from summa.summarizer import summarize\n",
    "text = requests.get('http://rare-technologies.com/the_matrix_synopsis.txt').text\n"
   ]
  },
  {
   "cell_type": "code",
   "execution_count": 4,
   "metadata": {},
   "outputs": [
    {
     "name": "stdout",
     "output_type": "stream",
     "text": [
      "Summary:\n",
      "Morpheus, Trinity, Neo, Apoc, Switch, Mouse and Cypher are jacked into the Matrix.\n",
      "Trinity brings the helicopter down to the floor that Morpheus is on and Neo opens fire on the three Agents.\n"
     ]
    }
   ],
   "source": [
    "print('Summary:')\n",
    "print(summarize(text, ratio=0.005))"
   ]
  },
  {
   "cell_type": "code",
   "execution_count": 5,
   "metadata": {},
   "outputs": [
    {
     "name": "stdout",
     "output_type": "stream",
     "text": [
      "Summary:\n",
      "['Morpheus, Trinity, Neo, Apoc, Switch, Mouse and Cypher are jacked into the Matrix.', 'Trinity brings the helicopter down to the floor that Morpheus is on and Neo opens fire on the three Agents.']\n"
     ]
    }
   ],
   "source": [
    "print('Summary:')\n",
    "print(summarize(text, ratio=0.005, split=True))"
   ]
  },
  {
   "cell_type": "code",
   "execution_count": null,
   "metadata": {},
   "outputs": [],
   "source": [
    "print('Summary:')\n",
    "print(summarize(text, words=50))"
   ]
  }
 ],
 "metadata": {
  "kernelspec": {
   "display_name": "aiffel",
   "language": "python",
   "name": "aiffel"
  },
  "language_info": {
   "codemirror_mode": {
    "name": "ipython",
    "version": 3
   },
   "file_extension": ".py",
   "mimetype": "text/x-python",
   "name": "python",
   "nbconvert_exporter": "python",
   "pygments_lexer": "ipython3",
   "version": "3.7.9"
  }
 },
 "nbformat": 4,
 "nbformat_minor": 4
}
